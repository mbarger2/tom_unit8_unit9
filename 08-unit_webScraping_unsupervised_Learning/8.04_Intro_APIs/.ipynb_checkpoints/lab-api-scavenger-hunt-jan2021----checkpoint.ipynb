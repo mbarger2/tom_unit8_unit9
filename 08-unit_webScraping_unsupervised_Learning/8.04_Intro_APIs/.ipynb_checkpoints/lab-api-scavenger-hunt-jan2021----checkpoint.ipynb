{
 "cells": [
  {
   "cell_type": "code",
   "execution_count": null,
   "metadata": {},
   "outputs": [],
   "source": [
    "import requests\n",
    "import json\n",
    "import getpass\n",
    "\n",
    "username = 'haggarw3'\n",
    "token = getpass.getpass(prompt='Token: ', stream=None)\n",
    "\n",
    "# Create a re-usable session object with the user creds in-built\n",
    "gh_session = requests.Session()\n",
    "gh_session.auth = (username, token)"
   ]
  },
  {
   "cell_type": "code",
   "execution_count": 1,
   "metadata": {},
   "outputs": [
    {
     "ename": "NameError",
     "evalue": "name 'json' is not defined",
     "output_type": "error",
     "traceback": [
      "\u001b[0;31m---------------------------------------------------------------------------\u001b[0m",
      "\u001b[0;31mNameError\u001b[0m                                 Traceback (most recent call last)",
      "\u001b[0;32m<ipython-input-1-032723c0ca1d>\u001b[0m in \u001b[0;36m<module>\u001b[0;34m\u001b[0m\n\u001b[1;32m      4\u001b[0m \u001b[0;31m# 1. Obtain the full list of forks created from the main lab repo via Github API.\u001b[0m\u001b[0;34m\u001b[0m\u001b[0;34m\u001b[0m\u001b[0;34m\u001b[0m\u001b[0m\n\u001b[1;32m      5\u001b[0m \u001b[0murl\u001b[0m \u001b[0;34m=\u001b[0m \u001b[0;34m'https://api.github.com/repos/ironhack-datalabs/madrid-oct-2018/forks'\u001b[0m\u001b[0;34m\u001b[0m\u001b[0;34m\u001b[0m\u001b[0m\n\u001b[0;32m----> 6\u001b[0;31m \u001b[0mforks\u001b[0m \u001b[0;34m=\u001b[0m \u001b[0mjson\u001b[0m\u001b[0;34m.\u001b[0m\u001b[0mloads\u001b[0m\u001b[0;34m(\u001b[0m\u001b[0mgh_session\u001b[0m\u001b[0;34m.\u001b[0m\u001b[0mget\u001b[0m\u001b[0;34m(\u001b[0m\u001b[0murl\u001b[0m\u001b[0;34m)\u001b[0m\u001b[0;34m.\u001b[0m\u001b[0mtext\u001b[0m\u001b[0;34m)\u001b[0m\u001b[0;34m\u001b[0m\u001b[0;34m\u001b[0m\u001b[0m\n\u001b[0m\u001b[1;32m      7\u001b[0m \u001b[0;34m\u001b[0m\u001b[0m\n\u001b[1;32m      8\u001b[0m \u001b[0;31m# 2. Loop the JSON response to find out the language attribute of each fork.\u001b[0m\u001b[0;34m\u001b[0m\u001b[0;34m\u001b[0m\u001b[0;34m\u001b[0m\u001b[0m\n",
      "\u001b[0;31mNameError\u001b[0m: name 'json' is not defined"
     ]
    }
   ],
   "source": [
    "# Challenge 1: Fork Languages\n",
    "import pandas as pd\n",
    "\n",
    "# 1. Obtain the full list of forks created from the main lab repo via Github API.\n",
    "url = 'https://api.github.com/repos/ironhack-datalabs/madrid-oct-2018/forks'\n",
    "forks = json.loads(gh_session.get(url).text)\n",
    "\n",
    "# 2. Loop the JSON response to find out the language attribute of each fork.\n",
    "# Use an array to store the language attributes of each fork.\n",
    "langs = []\n",
    "for fork in forks:\n",
    "    langs.append(fork['language'])\n",
    "    \n",
    "# 3.Print the language array. It should be something like:\n",
    "print(langs)\n",
    "print(set(langs))"
   ]
  },
  {
   "cell_type": "code",
   "execution_count": 3,
   "metadata": {},
   "outputs": [
    {
     "name": "stdout",
     "output_type": "stream",
     "text": [
      "33\n"
     ]
    }
   ],
   "source": [
    "# Challenge 2: Count Commits \n",
    "\n",
    "# 1. Obtain all the commits made in the past week via API,\n",
    "# which is a JSON array that contains multiple commit objects.\n",
    "# 2. Count how many commit objects are contained in the array.\n",
    "\n",
    "# Get commits made this year, since no commits have been made in the last week\n",
    "d = '2019-01-01'\n",
    "total_commits = 0\n",
    "\n",
    "for fork in forks:\n",
    "    commit_url = (fork['commits_url'].replace(\"{/sha}\", \"\") + '?since=' + d)\n",
    "    commits = json.loads(gh_session.get(commit_url).text)\n",
    "    for commit in commits:\n",
    "        total_commits += 1\n",
    "    \n",
    "print (total_commits)"
   ]
  },
  {
   "cell_type": "code",
   "execution_count": 4,
   "metadata": {},
   "outputs": [
    {
     "name": "stdout",
     "output_type": "stream",
     "text": [
      "{'47222/.0016.scavengerhunt', '88596/12', '30351/.0021.scavengerhunt', '15534', '55417/.0023.scavengerhunt', '55685/81', '49418/84', '40303/65', '98750', '49418/.0014.scavengerhunt', '17020/97', '15024/74', '40303/51', '15534/.0012.scavengerhunt', '15024/99', '70751/68', '60224/1', '55417/82', '40303/.0022.scavengerhunt', '17020/46', '15534/2', '47222', '55417', '89338/.0013.scavengerhunt', '89046/64', '15534/.0008.scavengerhunt', '.gitignore', '47222/7', '70985/59', '45525', '50896/83', '64880/79', '55685/5', '64880', '68848', '68848/.0004.scavengerhunt', '91701', '47830/.0010.scavengerhunt', '98750/62', '60224/80', '50896/.0011.scavengerhunt', '88596', '70985/11', '55417/14', '50896', '17020/.0007.scavengerhunt', '60224/.0003.scavengerhunt', '88596/55', '89046/73', '15534/98', '44639', '91701/33', '49418/38', '30351/22', '70751/18', '88596/32', '45525/67', '15024/40', '97881', '66032/28', '91701/.0015.scavengerhunt', '17020', '97881/26', '97881/71', '89338/8', '68848/16', '89338/43', '70985/.0017.scavengerhunt', '68848/75', '15024/.0006.scavengerhunt', '70751/44', '44639/.0005.scavengerhunt', '97881/36', '70751', '55685/.0020.scavengerhunt', '49418', '70751/.0019.scavengerhunt', '47830', '45525/90', '49418/30', '40303', '30351/96', '88596/.0002.scavengerhunt', '47222/.0024.scavengerhunt', '60224', '50896/4', '89338/35', '44639/91', '91701/39', '89046', '64880/57', '97881/.0009.scavengerhunt', '47830/66', '66032/47', '66032', '70985', '55685', '98750/20', '45525/.0018.scavengerhunt', '30351', '98750/.0001.scavengerhunt', '15024', '47830/85', '64880/3', '89338', '66032/77', '44639/76', '47222/89', '89046/70'}\n"
     ]
    }
   ],
   "source": [
    "repo_url = 'https://api.github.com/repos/ironhack-datalabs/scavenger'\n",
    "url = repo_url + '/git/trees/9308ccc8a4c34c5e3a991ee815222a9691c32476?recursive=1'\n",
    "trees = json.loads(gh_session.get(url).text)\n",
    "files = []\n",
    "for file in trees['tree']:\n",
    "    files.append(file['path'])\n",
    "print(set(files))"
   ]
  },
  {
   "cell_type": "code",
   "execution_count": 5,
   "metadata": {},
   "outputs": [
    {
     "name": "stdout",
     "output_type": "stream",
     "text": [
      "In data science, 80 percent of time spent is preparing data, 20 percent of time is spent complaining about the need to prepare data.\n"
     ]
    }
   ],
   "source": [
    "# Challenge 3: Hidden Cold Joke\n",
    "\n",
    "# After you find out the secrete files:\n",
    "# 1. Sort the filenames ascendingly.\n",
    "# 2. Read the content of each secret files into an array of strings.\n",
    "# 3. Concatenate the strings in the array separating each two with a whitespace.\n",
    "# 4. Print out the joke.\n",
    "\n",
    "# Get the path of all files in the tree\n",
    "repo_url = 'https://api.github.com/repos/ironhack-datalabs/scavenger'\n",
    "url = repo_url + '/git/trees/9308ccc8a4c34c5e3a991ee815222a9691c32476?recursive=1'\n",
    "trees = json.loads(gh_session.get(url).text)\n",
    "paths = []\n",
    "for file in trees['tree']:\n",
    "    paths.append(file['path'])\n",
    "    \n",
    "# Get all file names that end in '.scavengerhunt'\n",
    "files = []\n",
    "for file in paths:\n",
    "    if file.endswith('.scavengerhunt'):\n",
    "        files.append(file.rsplit('/', 1)[1])\n",
    "files.sort()\n",
    "\n",
    "# Make dictionary of all paths for each file\n",
    "fpaths = {}\n",
    "def find_path (f):\n",
    "    for file in trees['tree']:\n",
    "        if file['path'].endswith(f):\n",
    "            fpaths[f] = file['path']\n",
    "for file in files:\n",
    "    find_path(file)\n",
    "#print (fpaths)\n",
    "    \n",
    "# Get content for all needed files\n",
    "import base64\n",
    "\n",
    "secret = []\n",
    "for file in files:\n",
    "    url = repo_url + '/contents/'  + fpaths[file]\n",
    "    content = json.loads(gh_session.get(url).text)\n",
    "    message = base64.b64decode(content['content']).decode(\"utf-8\").rstrip()\n",
    "    secret.append(message)\n",
    "print(' '.join(secret))"
   ]
  },
  {
   "cell_type": "code",
   "execution_count": null,
   "metadata": {},
   "outputs": [],
   "source": []
  }
 ],
 "metadata": {
  "kernelspec": {
   "display_name": "Python 3",
   "language": "python",
   "name": "python3"
  },
  "language_info": {
   "codemirror_mode": {
    "name": "ipython",
    "version": 3
   },
   "file_extension": ".py",
   "mimetype": "text/x-python",
   "name": "python",
   "nbconvert_exporter": "python",
   "pygments_lexer": "ipython3",
   "version": "3.8.8"
  }
 },
 "nbformat": 4,
 "nbformat_minor": 2
}
