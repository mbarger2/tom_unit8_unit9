{
 "cells": [
  {
   "cell_type": "code",
   "execution_count": null,
   "id": "3db6899b",
   "metadata": {},
   "outputs": [],
   "source": []
  },
  {
   "cell_type": "code",
   "execution_count": null,
   "id": "22d6eeb5",
   "metadata": {},
   "outputs": [],
   "source": []
  },
  {
   "cell_type": "code",
   "execution_count": 1,
   "id": "27db1b84",
   "metadata": {},
   "outputs": [
    {
     "name": "stdout",
     "output_type": "stream",
     "text": [
      "Google: 200\n",
      "NBA: 401\n",
      "Rotten Tomatoes: 403\n"
     ]
    }
   ],
   "source": [
    "# Import requests library\n",
    "import requests\n",
    "\n",
    "google = requests.get(\"https://developers.google.com\")\n",
    "print(\"Google:\", google.status_code)\n",
    "\n",
    "NBA = response = requests.get(\"https://api.sportsdata.io/api/nba/fantasy/json/CurrentSeason\")\n",
    "print(\"NBA:\", NBA.status_code)\n",
    "\n",
    "rotten_tomato = requests.get(\"http://api.rottentomatoes.com/api/public/v1.0/lists/movies/box_office.json\")\n",
    "print(\"Rotten Tomatoes:\", rotten_tomato.status_code)"
   ]
  },
  {
   "cell_type": "raw",
   "id": "b7ebf618",
   "metadata": {},
   "source": [
    "So we can see we receive some status codes, the most frequent are these:\n",
    "\n",
    "200: Everything went okay and the result has been returned (if any).\n",
    "301: The server is redirecting you to a different endpoint. This can happen when a company switches domain names, or an endpoint name is changed.\n",
    "400: The server thinks you made a bad request. This happens when you don’t send along the right data, among other things.\n",
    "401: You are not properly authenticated.\n",
    "403: The resource you’re trying to access is forbidden: you don’t have the right permissions to get it.\n",
    "404: The resource you tried to access doesn't exist.\n",
    "503: The server can't handle the request."
   ]
  },
  {
   "cell_type": "markdown",
   "id": "54add80f",
   "metadata": {},
   "source": [
    "https://developer.mozilla.org/en-US/docs/Web/HTTP/Status"
   ]
  },
  {
   "cell_type": "code",
   "execution_count": null,
   "id": "ee4f56d3",
   "metadata": {},
   "outputs": [],
   "source": []
  },
  {
   "cell_type": "markdown",
   "id": "662083da",
   "metadata": {},
   "source": [
    "Request response cycle:\n",
    "    https://medium.com/@jen_strong/the-request-response-cycle-of-the-web-1b7e206e9047"
   ]
  },
  {
   "cell_type": "code",
   "execution_count": null,
   "id": "3bf8c661",
   "metadata": {},
   "outputs": [],
   "source": []
  },
  {
   "cell_type": "markdown",
   "id": "971b6075",
   "metadata": {},
   "source": [
    "APIs\n",
    "https://www.ibm.com/topics/api"
   ]
  },
  {
   "cell_type": "raw",
   "id": "beaf4240",
   "metadata": {},
   "source": [
    "REST APIs\n",
    "https://www.ibm.com/cloud/learn/rest-apis"
   ]
  },
  {
   "cell_type": "code",
   "execution_count": null,
   "id": "14d91b91",
   "metadata": {},
   "outputs": [],
   "source": []
  },
  {
   "cell_type": "code",
   "execution_count": null,
   "id": "427f6632",
   "metadata": {},
   "outputs": [],
   "source": [
    "List of some Python API wrappers \n",
    "https://github.com/realpython/list-of-python-api-wrappers"
   ]
  },
  {
   "cell_type": "code",
   "execution_count": null,
   "id": "a8c1d5b5",
   "metadata": {},
   "outputs": [],
   "source": []
  },
  {
   "cell_type": "code",
   "execution_count": null,
   "id": "3f5a0adf",
   "metadata": {},
   "outputs": [],
   "source": []
  },
  {
   "cell_type": "markdown",
   "id": "50afcd4b",
   "metadata": {},
   "source": [
    "API wrappers "
   ]
  },
  {
   "cell_type": "raw",
   "id": "6f48ba51",
   "metadata": {},
   "source": [
    "https://rapidapi.com/blog/api-glossary/api-wrapper/"
   ]
  },
  {
   "cell_type": "code",
   "execution_count": null,
   "id": "377c75c5",
   "metadata": {},
   "outputs": [],
   "source": []
  },
  {
   "cell_type": "code",
   "execution_count": null,
   "id": "f01dddef",
   "metadata": {},
   "outputs": [],
   "source": []
  }
 ],
 "metadata": {
  "kernelspec": {
   "display_name": "Python 3",
   "language": "python",
   "name": "python3"
  },
  "language_info": {
   "codemirror_mode": {
    "name": "ipython",
    "version": 3
   },
   "file_extension": ".py",
   "mimetype": "text/x-python",
   "name": "python",
   "nbconvert_exporter": "python",
   "pygments_lexer": "ipython3",
   "version": "3.8.8"
  }
 },
 "nbformat": 4,
 "nbformat_minor": 5
}
