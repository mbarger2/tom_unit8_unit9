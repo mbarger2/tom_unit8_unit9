{
 "cells": [
  {
   "cell_type": "markdown",
   "metadata": {},
   "source": [
    "# Lab | Working with APIs"
   ]
  },
  {
   "cell_type": "markdown",
   "metadata": {},
   "source": [
    "Instructions  \n",
    "Following the class example, create a function that returns the price, names of origin and arrival airports and the name of the company. Do it for all the flights between two dates that cost the same."
   ]
  },
  {
   "cell_type": "code",
   "execution_count": 1,
   "metadata": {},
   "outputs": [],
   "source": [
    "import pandas as pd\n",
    "import requests\n",
    "import json"
   ]
  },
  {
   "cell_type": "code",
   "execution_count": null,
   "metadata": {},
   "outputs": [],
   "source": [
    "# Change <introduce your RapidAPI key here>"
   ]
  },
  {
   "cell_type": "code",
   "execution_count": 2,
   "metadata": {},
   "outputs": [],
   "source": [
    "def city_code(city_name):\n",
    "    url = \"https://skyscanner-skyscanner-flight-search-v1.p.rapidapi.com/apiservices/autosuggest/v1.0/US/USD/en-US/\"\n",
    "\n",
    "    params = {\"query\": city_name}\n",
    "    \n",
    "    # Change <introduce your RapidAPI key here>\n",
    "    headers = {'x-rapidapi-host': \"skyscanner-skyscanner-flight-search-v1.p.rapidapi.com\",\n",
    "                      'x-rapidapi-key': \"<introduce your RapidAPI key here>\"}\n",
    "\n",
    "    response = requests.get(url, headers = headers, params = params)\n",
    "\n",
    "    return response.json()[\"Places\"][0][\"PlaceId\"]"
   ]
  },
  {
   "cell_type": "code",
   "execution_count": null,
   "metadata": {},
   "outputs": [],
   "source": [
    "# Change <introduce your RapidAPI key here>"
   ]
  },
  {
   "cell_type": "code",
   "execution_count": 3,
   "metadata": {},
   "outputs": [],
   "source": [
    "def flight_prices(departure, arrival, date):\n",
    "\n",
    "    departure_code = city_code(departure)\n",
    "    arrival_code = city_code(arrival)\n",
    "    url = f\"https://skyscanner-skyscanner-flight-search-v1.p.rapidapi.com/apiservices/browsequotes/v1.0/US/USD/en-US/{departure_code}/{arrival_code}/{date}\"\n",
    "\n",
    "    params = {\"inboundpartialdate\":{date}}\n",
    "\n",
    "    # Change <introduce your RapidAPI key here>\n",
    "    headers = {\n",
    "    'x-rapidapi-host': \"skyscanner-skyscanner-flight-search-v1.p.rapidapi.com\",\n",
    "    'x-rapidapi-key': \"<introduce your RapidAPI key here>\"}\n",
    "\n",
    "    response = requests.get(url, headers=headers, params=params)\n",
    "\n",
    "    return response.json()"
   ]
  },
  {
   "cell_type": "code",
   "execution_count": 4,
   "metadata": {},
   "outputs": [],
   "source": [
    "def get_dates(start, end):\n",
    "    return pd.Series(pd.date_range(start, end,freq='d').format())"
   ]
  },
  {
   "cell_type": "code",
   "execution_count": 5,
   "metadata": {},
   "outputs": [],
   "source": [
    "def flight_days(origin, destination, start, end):\n",
    "    dates = get_dates(start, end)\n",
    "    return {date:flight_prices(origin, destination, date) for date in dates}\n"
   ]
  },
  {
   "cell_type": "code",
   "execution_count": 6,
   "metadata": {},
   "outputs": [],
   "source": [
    "def lowest_price_data(origin, destination, start, end):\n",
    "    data_flight = flight_days(origin, destination, start, end)\n",
    "    \n",
    "    \n",
    "    df_flight_dates = pd.DataFrame()\n",
    "    df_carriers = pd.DataFrame()\n",
    "    df_places = pd.DataFrame()\n",
    "    \n",
    "    \n",
    "    for day in data_flight.keys():\n",
    "        df_flight_dates = df_flight_dates.append(pd.json_normalize(data_flight[day][\"Quotes\"]))\n",
    "        df_carriers = df_carriers.append(pd.json_normalize(data_flight[day]['Carriers'])).drop_duplicates()\n",
    "        df_places = df_places.append(pd.json_normalize(data_flight[day]['Places'])).drop_duplicates()\n",
    "    \n",
    "\n",
    "    price_cheap_flight = df_flight_dates.loc[(df_flight_dates['MinPrice'] == df_flight_dates['MinPrice'].min()),:]\n",
    "    \n",
    "    departure_date = price_cheap_flight['QuoteDateTime'].values[0]\n",
    "    company_name = df_carriers.loc[(price_cheap_flight['OutboundLeg.CarrierIds'][0][0] == df_carriers['CarrierId']),'Name'].values[0]\n",
    "    departure = df_places.loc[(df_places['PlaceId'] == price_cheap_flight['OutboundLeg.OriginId'][0]) ,'Name'].values[0]\n",
    "    arrival = df_places.loc[(df_places['PlaceId'] == price_cheap_flight['OutboundLeg.DestinationId'][0]) ,'Name'].values[0]\n",
    "\n",
    "    \n",
    "    return print(f'Departure date: {departure_date[:10]} \\nCompany name: {company_name} \\nDeparture airport: {departure} \\nArrival airport: {arrival}')\n",
    "\n"
   ]
  },
  {
   "cell_type": "code",
   "execution_count": 7,
   "metadata": {},
   "outputs": [
    {
     "name": "stdout",
     "output_type": "stream",
     "text": [
      "Departure date: 2020-12-01 \n",
      "Company name: TAP Air Portugal \n",
      "Departure airport: New York Newark \n",
      "Arrival airport: London Heathrow\n"
     ]
    }
   ],
   "source": [
    "lowest_price_data('New York', 'London', '2020-12-20', '2020-12-22')"
   ]
  },
  {
   "cell_type": "code",
   "execution_count": null,
   "metadata": {},
   "outputs": [],
   "source": []
  }
 ],
 "metadata": {
  "kernelspec": {
   "display_name": "Python 3",
   "language": "python",
   "name": "python3"
  },
  "language_info": {
   "codemirror_mode": {
    "name": "ipython",
    "version": 3
   },
   "file_extension": ".py",
   "mimetype": "text/x-python",
   "name": "python",
   "nbconvert_exporter": "python",
   "pygments_lexer": "ipython3",
   "version": "3.7.3"
  }
 },
 "nbformat": 4,
 "nbformat_minor": 4
}
